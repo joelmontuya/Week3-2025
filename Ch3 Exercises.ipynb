{
 "cells": [
  {
   "cell_type": "markdown",
   "id": "01f0620c-5166-4342-86e4-61594cba2a4a",
   "metadata": {},
   "source": [
    "## Git Terminology\n",
    "\n",
    "- Git - on your own computer\n",
    "- GitHub - in the internet (cloud)\n",
    "<hr>\n",
    "- commit - save\n",
    "- publish - make the repository available on GitHub\n",
    "- push - send changes to GitHub\n",
    "- fetch - check for newer updates from GitHub\n",
    "- pull - get the updates from GitHub"
   ]
  },
  {
   "cell_type": "markdown",
   "id": "d9efb03a-b9fe-455f-9314-c9cc31619b21",
   "metadata": {},
   "source": [
    "## Q1\n",
    "\n",
    "Exercise 1: Rewrite your pay computation to give the employee 1.5\n",
    "times the hourly rate for hours worked above 40 hours."
   ]
  },
  {
   "cell_type": "code",
   "execution_count": 1,
   "id": "388e0ef1-f469-401a-a93b-77fd7c65aa9e",
   "metadata": {},
   "outputs": [
    {
     "name": "stdin",
     "output_type": "stream",
     "text": [
      "What are your hours?\n",
      " 40\n",
      "What is your hourly rate?\n",
      " 10\n"
     ]
    },
    {
     "name": "stdout",
     "output_type": "stream",
     "text": [
      "400.0\n"
     ]
    }
   ],
   "source": [
    "# Ch 2 Original\n",
    "hours = float(input(\"What are your hours?\\n\"))\n",
    "rate = float(input(\"What is your hourly rate?\\n\"))\n",
    "print(hours * rate)"
   ]
  },
  {
   "cell_type": "code",
   "execution_count": 2,
   "id": "f2093c00-fd74-48f2-b736-2e3f72ffbea5",
   "metadata": {},
   "outputs": [
    {
     "name": "stdin",
     "output_type": "stream",
     "text": [
      "What are your hours?\n",
      " 45\n",
      "What is your hourly rate?\n",
      " 10\n"
     ]
    },
    {
     "name": "stdout",
     "output_type": "stream",
     "text": [
      "475.0\n"
     ]
    }
   ],
   "source": [
    "hours = float(input(\"What are your hours?\\n\"))\n",
    "rate = float(input(\"What is your hourly rate?\\n\"))\n",
    "\n",
    "if hours > 40:\n",
    "    pay = (hours-40)*1.5*rate + 40*rate \n",
    "else:\n",
    "    pay = hours * rate\n",
    "\n",
    "print(pay)"
   ]
  },
  {
   "cell_type": "markdown",
   "id": "55865cb4-853b-404e-8d04-7c16cdb8bb7b",
   "metadata": {},
   "source": [
    "## Q3\n",
    "\n",
    "Exercise 3: Write a program to prompt for a score between 0.0 and\n",
    "1.0. If the score is out of range, print an error message. If the score is\n",
    "between 0.0 and 1.0, print a grade using the following table:\n",
    "\n",
    "- \\>= 0.9 A\n",
    "- \\>= 0.8 B\n",
    "- \\>= 0.7 C\n",
    "- \\>= 0.6 D\n",
    "- \\< 0.6 F"
   ]
  },
  {
   "cell_type": "code",
   "execution_count": 21,
   "id": "8ecbf9e5-06f4-498c-b936-143cc155dd22",
   "metadata": {},
   "outputs": [
    {
     "name": "stdin",
     "output_type": "stream",
     "text": [
      "What is your score?\n",
      " -1\n"
     ]
    },
    {
     "name": "stdout",
     "output_type": "stream",
     "text": [
      "Sorry, that score is out of range.\n"
     ]
    }
   ],
   "source": [
    "score = float(input(\"What is your score?\\n\"))\n",
    "if score > 1 or score < 0:\n",
    "    print(\"Sorry, that score is out of range.\")\n",
    "# else:\n",
    "elif score >= 0.9:\n",
    "    print(\"A\")\n",
    "elif score >= 0.8:\n",
    "    print(\"B\")\n",
    "elif score >= 0.7:\n",
    "    print(\"C\")\n",
    "elif score >= 0.6:\n",
    "    print(\"D\")\n",
    "else:\n",
    "    print(\"F\")"
   ]
  },
  {
   "cell_type": "code",
   "execution_count": null,
   "id": "3bc59441-9cae-495a-bbd3-4df5c6ec525f",
   "metadata": {},
   "outputs": [],
   "source": []
  }
 ],
 "metadata": {
  "kernelspec": {
   "display_name": "Python 3 (ipykernel)",
   "language": "python",
   "name": "python3"
  },
  "language_info": {
   "codemirror_mode": {
    "name": "ipython",
    "version": 3
   },
   "file_extension": ".py",
   "mimetype": "text/x-python",
   "name": "python",
   "nbconvert_exporter": "python",
   "pygments_lexer": "ipython3",
   "version": "3.12.5"
  }
 },
 "nbformat": 4,
 "nbformat_minor": 5
}
