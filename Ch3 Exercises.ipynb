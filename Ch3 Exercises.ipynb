{
 "cells": [
  {
   "cell_type": "markdown",
   "id": "01f0620c-5166-4342-86e4-61594cba2a4a",
   "metadata": {},
   "source": [
    "## Git Terminology\n",
    "\n",
    "- Git - on your own computer\n",
    "- GitHub - in the internet (cloud)\n",
    "<hr>\n",
    "- commit - save\n",
    "- publish - make the repository available on GitHub\n",
    "- push - send changes to GitHub\n",
    "- fetch - check for newer updates from GitHub\n",
    "- pull - get the updates from GitHub"
   ]
  },
  {
   "cell_type": "markdown",
   "id": "d9efb03a-b9fe-455f-9314-c9cc31619b21",
   "metadata": {},
   "source": [
    "## Q1\n",
    "\n",
    "Exercise 1: Rewrite your pay computation to give the employee 1.5\n",
    "times the hourly rate for hours worked above 40 hours."
   ]
  },
  {
   "cell_type": "code",
   "execution_count": 1,
   "id": "388e0ef1-f469-401a-a93b-77fd7c65aa9e",
   "metadata": {},
   "outputs": [
    {
     "name": "stdin",
     "output_type": "stream",
     "text": [
      "What are your hours?\n",
      " 40\n",
      "What is your hourly rate?\n",
      " 10\n"
     ]
    },
    {
     "name": "stdout",
     "output_type": "stream",
     "text": [
      "400.0\n"
     ]
    }
   ],
   "source": [
    "# Ch 2 Original\n",
    "hours = float(input(\"What are your hours?\\n\"))\n",
    "rate = float(input(\"What is your hourly rate?\\n\"))\n",
    "print(hours * rate)"
   ]
  },
  {
   "cell_type": "code",
   "execution_count": null,
   "id": "f2093c00-fd74-48f2-b736-2e3f72ffbea5",
   "metadata": {},
   "outputs": [],
   "source": [
    "hours = float(input(\"What are your hours?\\n\"))\n",
    "rate = float(input(\"What is your hourly rate?\\n\"))\n",
    "\n",
    "if hours > 40:\n",
    "    pay = (hours-40)*1.5*rate + 40*rate \n",
    "else:\n",
    "    pay \n",
    "\n",
    "print(hours * rate)"
   ]
  }
 ],
 "metadata": {
  "kernelspec": {
   "display_name": "Python 3 (ipykernel)",
   "language": "python",
   "name": "python3"
  },
  "language_info": {
   "codemirror_mode": {
    "name": "ipython",
    "version": 3
   },
   "file_extension": ".py",
   "mimetype": "text/x-python",
   "name": "python",
   "nbconvert_exporter": "python",
   "pygments_lexer": "ipython3",
   "version": "3.12.5"
  }
 },
 "nbformat": 4,
 "nbformat_minor": 5
}
