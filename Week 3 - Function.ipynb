{
 "cells": [
  {
   "cell_type": "markdown",
   "id": "2042c8b8-93cf-4b68-a168-34184661f8a9",
   "metadata": {},
   "source": [
    "# Function\n",
    "It is a named sequence of statements that performs computation.\n"
   ]
  },
  {
   "cell_type": "code",
   "execution_count": 15,
   "id": "d6ceb560-a76d-4d6c-b822-3a731fee7231",
   "metadata": {},
   "outputs": [
    {
     "name": "stdout",
     "output_type": "stream",
     "text": [
      "This is a function\n"
     ]
    }
   ],
   "source": [
    "#Define a function\n",
    "def funcName():\n",
    "    print(\"This is a function\")\n",
    "\n",
    "# Call the function by its function name\n",
    "funcName()"
   ]
  },
  {
   "cell_type": "code",
   "execution_count": 19,
   "id": "5861e8d1-6f1c-4d4c-8116-0a9863e95ff7",
   "metadata": {},
   "outputs": [
    {
     "name": "stdout",
     "output_type": "stream",
     "text": [
      "6\n",
      "120\n"
     ]
    }
   ],
   "source": [
    "# Defining function with predefined values\n",
    "\n",
    "def tripleMultiplier(a, b, c=10):\n",
    "    print(a*b*c)\n",
    "\n",
    "tripleMultiplier(1,2,3)\n",
    "\n",
    "# We can call function with 2 variables\n",
    "tripleMultiplier(2,6)"
   ]
  },
  {
   "cell_type": "code",
   "execution_count": 63,
   "id": "d449ad50-1c8c-4ff5-b517-ffcbb8cdb652",
   "metadata": {},
   "outputs": [
    {
     "data": {
      "text/plain": [
       "(6, 7, 8)"
      ]
     },
     "execution_count": 63,
     "metadata": {},
     "output_type": "execute_result"
    }
   ],
   "source": [
    "# Destructuring \n",
    "\n",
    "def multReturn(num):\n",
    "    return num, num+1, num+2\n",
    "\n",
    "a, b, c = multReturn(6)\n",
    "a, b, c"
   ]
  },
  {
   "cell_type": "markdown",
   "id": "38b5f1e4-5cb1-4d67-a7f2-6e336a3ec319",
   "metadata": {},
   "source": [
    "## Excercise 4.14"
   ]
  },
  {
   "cell_type": "markdown",
   "id": "83a54f6c-7eab-4b35-b8ac-a201b06b70f1",
   "metadata": {},
   "source": [
    "#### Exercise 6: Rewrite your pay computation with time-and-a-half for over-time and create a function called computepay which takes two parameters(hours and rate)."
   ]
  },
  {
   "cell_type": "code",
   "execution_count": 21,
   "id": "c71d2fba-fa40-4865-a3bd-0f4446b6ccce",
   "metadata": {},
   "outputs": [],
   "source": [
    "def computepay(hours, pay):\n",
    "    salary=0\n",
    "    if hours <= 40:\n",
    "        salary = hours * rate\n",
    "    else:\n",
    "        salary = (40 * rate) + ((hours - 40) * (rate * 1.5)) # normal rate + rate above 40 hours\n",
    "    return salary"
   ]
  },
  {
   "cell_type": "code",
   "execution_count": 23,
   "id": "86228ae4-a3dd-4be0-bfd4-a1b1855c836d",
   "metadata": {},
   "outputs": [
    {
     "name": "stdin",
     "output_type": "stream",
     "text": [
      "Enter Hours: 10\n",
      "Enter Rate: 10\n"
     ]
    },
    {
     "name": "stdout",
     "output_type": "stream",
     "text": [
      "Pay:100.0\n"
     ]
    }
   ],
   "source": [
    "hours=float(input(\"Enter Hours:\"))\n",
    "rate=float(input(\"Enter Rate:\"))\n",
    "\n",
    "print(f\"Pay:{computepay(hours, rate)}\")"
   ]
  },
  {
   "cell_type": "code",
   "execution_count": 59,
   "id": "c13d8419-5a07-41db-819c-89503721dc55",
   "metadata": {},
   "outputs": [
    {
     "name": "stdin",
     "output_type": "stream",
     "text": [
      "Enter score: asd\n"
     ]
    },
    {
     "data": {
      "text/plain": [
       "'Please enter a valid number.'"
      ]
     },
     "execution_count": 59,
     "metadata": {},
     "output_type": "execute_result"
    }
   ],
   "source": [
    "def computegrade():\n",
    "        if score < 0 or score > 1: # Check if the score is within bounds, and throw an error if out of range.\n",
    "           return('Score out of range.', )\n",
    "        elif score >=0.9:\n",
    "            return('A')\n",
    "        elif score >=0.8:\n",
    "            return('B')\n",
    "        elif score >=0.7:\n",
    "            return('C')\n",
    "        elif score >=0.6:\n",
    "            return('D')\n",
    "        else:\n",
    "            return('F')\n",
    "    except ValueError:\n",
    "        return('Please enter a valid number.')\n",
    "\n",
    " try: \n",
    "    score = float(input(\"Enter score:\"))\n",
    "\n",
    "computegrade()"
   ]
  },
  {
   "cell_type": "code",
   "execution_count": null,
   "id": "3b363dac-7f63-4051-8471-836de6c79eb7",
   "metadata": {},
   "outputs": [],
   "source": []
  }
 ],
 "metadata": {
  "kernelspec": {
   "display_name": "Python [conda env:base] *",
   "language": "python",
   "name": "conda-base-py"
  },
  "language_info": {
   "codemirror_mode": {
    "name": "ipython",
    "version": 3
   },
   "file_extension": ".py",
   "mimetype": "text/x-python",
   "name": "python",
   "nbconvert_exporter": "python",
   "pygments_lexer": "ipython3",
   "version": "3.12.7"
  }
 },
 "nbformat": 4,
 "nbformat_minor": 5
}
