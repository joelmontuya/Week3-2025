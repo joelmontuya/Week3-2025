{
 "cells": [
  {
   "cell_type": "markdown",
   "id": "c1429ebe-c76a-4ce1-9445-ee6949e71ab8",
   "metadata": {},
   "source": [
    "# Git Methods\n",
    "\n",
    "<ul>\n",
    " <li>Git - on local/computer</li>\n",
    " <li>GitHub - on internet/cloud</li>\n",
    "</ul>\n",
    "\n",
    "<ul>\n",
    "    <li><strong>git init</strong> - Initializes a new Git repository.</li>\n",
    "    <li><strong>git clone &lt;repository-url&gt;</strong> - Clones an existing repository.</li>\n",
    "    <li><strong>git add &lt;file&gt;</strong> - Stages changes to be committed.</li>\n",
    "    <li><strong>git commit -m \"message\"</strong> - Commits staged changes with a message.</li>\n",
    "    <li><strong>git status</strong> - Displays the status of the working directory and staging area.</li>\n",
    "    <li><strong>git log</strong> - Shows the commit history.</li>\n",
    "    <li><strong>git diff</strong> - Shows differences between changes.</li>\n",
    "    <li><strong>git pull</strong> - Fetches and merges changes from a remote repository.</li>\n",
    "    <li><strong>git push</strong> - Pushes local commits to a remote repository.</li>\n",
    "    <li><strong>git branch</strong> - Lists, creates, or deletes branches.</li>\n",
    "    <li><strong>git checkout &lt;branch&gt;</strong> - Switches to a different branch.</li>\n",
    "    <li><strong>git merge &lt;branch&gt;</strong> - Merges changes from one branch into another.</li>\n",
    "    <li><strong>git rebase &lt;branch&gt;</strong> - Reapplies commits from one branch onto another.</li>\n",
    "    <li><strong>git reset &lt;commit&gt;</strong> - Resets the current branch to a specific commit.</li>\n",
    "    <li><strong>git remote</strong> - Manages remote repositories.</li>\n",
    "    <li><strong>git fetch</strong> - Fetches changes from the remote repository.</li>\n",
    "    <li><strong>git tag &lt;tag-name&gt;</strong> - Creates a tag for a specific commit.</li>\n",
    "    <li><strong>git stash</strong> - Temporarily saves uncommitted changes.</li>\n",
    "    <li><strong>git clean</strong> - Removes untracked files from the working directory.</li>\n",
    "    <li><strong>git cherry-pick &lt;commit&gt;</strong> - Applies a commit from another branch.</li>\n",
    "    <li><strong>git diff</strong> - Shows changes between commits or working directory.</li>\n",
    "</ul>"
   ]
  },
  {
   "cell_type": "markdown",
   "id": "53f2dd9e-be34-465f-9424-b70777052772",
   "metadata": {},
   "source": [
    "### Week 2 - Assignment\n",
    "\n",
    "Chapter 3 exercises on conditional statements"
   ]
  },
  {
   "cell_type": "markdown",
   "id": "c3863027-2a37-4c33-8f70-cc97ec45b681",
   "metadata": {},
   "source": [
    "#### Exercise 1: Rewrite your pay computation to give the employee 1.5 times the hourly rate for hours worked above 40 hours."
   ]
  },
  {
   "cell_type": "code",
   "execution_count": 4,
   "id": "299b4842-dff1-4d34-8235-ab9840edf962",
   "metadata": {},
   "outputs": [
    {
     "name": "stdin",
     "output_type": "stream",
     "text": [
      "Enter Hours: 10\n",
      "Enter Rate: 10\n"
     ]
    },
    {
     "name": "stdout",
     "output_type": "stream",
     "text": [
      "Pay: 100.0\n"
     ]
    }
   ],
   "source": [
    "# Ask for the hours worked and pay rate\n",
    "hours=float(input(\"Enter Hours:\"))\n",
    "rate=float(input(\"Enter Rate:\"))\n",
    "salary=0\n",
    "\n",
    "if hours <= 40:\n",
    "    salary = hours * rate\n",
    "else:\n",
    "    salary = (40 * rate) + ((hours - 40) * (rate * 1.5)) # normal rate + rate above 40 hours\n",
    "\n",
    "print(f\"Pay: {salary}\")\n",
    "    "
   ]
  },
  {
   "cell_type": "markdown",
   "id": "a18123e6-9e00-486f-bd98-9c0e1defea72",
   "metadata": {},
   "source": [
    "#### Exercise 2: Rewrite your pay program using try and except so that your program handles non-numeric input gracefully by printing a message and exiting the program. "
   ]
  },
  {
   "cell_type": "code",
   "execution_count": 10,
   "id": "d2e3bdb1-a45c-409e-8149-e32b2735acc4",
   "metadata": {},
   "outputs": [
    {
     "name": "stdin",
     "output_type": "stream",
     "text": [
      "Enter Hours: asd\n"
     ]
    },
    {
     "name": "stdout",
     "output_type": "stream",
     "text": [
      "Error, enter numeric input\n"
     ]
    }
   ],
   "source": [
    "# Ask for the hours worked and pay rate\n",
    "try:\n",
    "    hours=float(input(\"Enter Hours:\"))\n",
    "    rate=float(input(\"Enter Rate:\"))\n",
    "except ValueError:\n",
    "    print('Error, enter numeric input')    "
   ]
  },
  {
   "cell_type": "markdown",
   "id": "3a50fc2a-80f4-44b4-a28f-9be9b88da94c",
   "metadata": {},
   "source": [
    "#### Exercise 3: Write a program to prompt for a score between 0.0 and 1.0. If the score is out of range, print an error message. If the score is between 0.0 and 1.0, print a grade using the following table:"
   ]
  },
  {
   "cell_type": "code",
   "execution_count": 26,
   "id": "b87d3684-af61-4935-b44e-98dacc58d086",
   "metadata": {},
   "outputs": [
    {
     "name": "stdin",
     "output_type": "stream",
     "text": [
      "Enter score: 1.1\n"
     ]
    },
    {
     "name": "stdout",
     "output_type": "stream",
     "text": [
      "Score out of range.\n"
     ]
    }
   ],
   "source": [
    "# Ask for the score\n",
    "\n",
    "try: \n",
    "    score = float(input(\"Enter score:\"))\n",
    "    \n",
    "    if score < 0 or score > 1: # Check if the score is within bounds, and throw an error if out of range.\n",
    "        raise ValueError()\n",
    "    elif score >=0.9:\n",
    "        print('A')\n",
    "    elif score >=0.8:\n",
    "        print('B')\n",
    "    elif score >=0.7:\n",
    "        print('C')\n",
    "    elif score >=0.6:\n",
    "        print('D')\n",
    "    else:\n",
    "        print('F')\n",
    "    \n",
    "except ValueError or TypeError:\n",
    "    print('Score out of range.')"
   ]
  },
  {
   "cell_type": "code",
   "execution_count": null,
   "id": "87093929-eca6-49f8-ae82-2630929c46fc",
   "metadata": {},
   "outputs": [],
   "source": []
  }
 ],
 "metadata": {
  "kernelspec": {
   "display_name": "Python [conda env:base] *",
   "language": "python",
   "name": "conda-base-py"
  },
  "language_info": {
   "codemirror_mode": {
    "name": "ipython",
    "version": 3
   },
   "file_extension": ".py",
   "mimetype": "text/x-python",
   "name": "python",
   "nbconvert_exporter": "python",
   "pygments_lexer": "ipython3",
   "version": "3.12.7"
  }
 },
 "nbformat": 4,
 "nbformat_minor": 5
}
