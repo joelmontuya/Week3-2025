{
 "cells": [
  {
   "cell_type": "markdown",
   "id": "3d8d2de9-0358-406c-a6a1-f910b7b9f9fb",
   "metadata": {},
   "source": [
    "# Try, Except and Finally\n",
    "\n",
    "The try and except blocks in Python are used for exception handling. Their purpose is to catch and handle runtime errors gracefully, preventing a program from crashing when an unexpected issue occurs."
   ]
  },
  {
   "cell_type": "code",
   "execution_count": 8,
   "id": "17ed7878-623a-4e99-a1db-c15c41cfabe7",
   "metadata": {},
   "outputs": [
    {
     "name": "stdout",
     "output_type": "stream",
     "text": [
      "I guess mathimaticians were right about this.\n"
     ]
    }
   ],
   "source": [
    "# How try except work\n",
    "try:\n",
    "    10/0\n",
    "    print('Magic!')\n",
    "except:\n",
    "    print('I guess mathimaticians were right about this.')"
   ]
  },
  {
   "cell_type": "code",
   "execution_count": 11,
   "id": "7992aaf3-9b49-4725-a2c4-45b58225a281",
   "metadata": {},
   "outputs": [
    {
     "name": "stdin",
     "output_type": "stream",
     "text": [
      "What is your favorite number? asd\n"
     ]
    },
    {
     "name": "stdout",
     "output_type": "stream",
     "text": [
      "Please input an actual number!\n"
     ]
    }
   ],
   "source": [
    "try:\n",
    "    number = float(input(\"What is your favorite number?\"))\n",
    "    print(f\"Your favorite number is {number}.\")\n",
    "except:\n",
    "    print(\"Please input an actual number!\")"
   ]
  },
  {
   "cell_type": "code",
   "execution_count": 13,
   "id": "bc04b2f2-d97d-488c-9ccd-c2dbed86ea4c",
   "metadata": {},
   "outputs": [
    {
     "name": "stdin",
     "output_type": "stream",
     "text": [
      "What is your favorite number? asd\n"
     ]
    }
   ],
   "source": [
    "# pass in except will skip the function\n",
    "try:\n",
    "    number = float(input(\"What is your favorite number?\"))\n",
    "    print(f\"Your favorite number is {number}.\")\n",
    "except:\n",
    "    pass\n"
   ]
  },
  {
   "cell_type": "code",
   "execution_count": null,
   "id": "9d71aa28-a89f-4699-b1ed-efb2e43dc579",
   "metadata": {},
   "outputs": [],
   "source": [
    "# Finally - this will always run - this is used for scenarios like termination of SQL connection / or saving the work in progress\n",
    "\n",
    "try:\n",
    "    number = float(input(\"What is your favorite number?\"))\n",
    "    print(f\"Your favorite number is {number}.\")\n",
    "except:\n",
    "    pass\n",
    "finally:\n",
    "    print('This will always run')\n"
   ]
  },
  {
   "cell_type": "code",
   "execution_count": null,
   "id": "cf586637-3b09-4f69-8651-0a8218fc5865",
   "metadata": {},
   "outputs": [],
   "source": []
  }
 ],
 "metadata": {
  "kernelspec": {
   "display_name": "Python [conda env:base] *",
   "language": "python",
   "name": "conda-base-py"
  },
  "language_info": {
   "codemirror_mode": {
    "name": "ipython",
    "version": 3
   },
   "file_extension": ".py",
   "mimetype": "text/x-python",
   "name": "python",
   "nbconvert_exporter": "python",
   "pygments_lexer": "ipython3",
   "version": "3.12.7"
  }
 },
 "nbformat": 4,
 "nbformat_minor": 5
}
