{
 "cells": [
  {
   "cell_type": "code",
   "execution_count": 1,
   "id": "ca86f037-c126-421d-8be8-67a49ef8d0ee",
   "metadata": {},
   "outputs": [
    {
     "ename": "ZeroDivisionError",
     "evalue": "division by zero",
     "output_type": "error",
     "traceback": [
      "\u001b[1;31m---------------------------------------------------------------------------\u001b[0m",
      "\u001b[1;31mZeroDivisionError\u001b[0m                         Traceback (most recent call last)",
      "Cell \u001b[1;32mIn[1], line 1\u001b[0m\n\u001b[1;32m----> 1\u001b[0m \u001b[38;5;241m10\u001b[39m\u001b[38;5;241m/\u001b[39m\u001b[38;5;241m0\u001b[39m\n",
      "\u001b[1;31mZeroDivisionError\u001b[0m: division by zero"
     ]
    }
   ],
   "source": [
    "10/0"
   ]
  },
  {
   "cell_type": "code",
   "execution_count": 3,
   "id": "de21e0f1-899c-4a59-aa7b-09a115482f19",
   "metadata": {},
   "outputs": [
    {
     "name": "stdout",
     "output_type": "stream",
     "text": [
      "I guess the mathematicians were right about this\n",
      "5\n"
     ]
    }
   ],
   "source": [
    "number = 0\n",
    "try:\n",
    "    number = 5\n",
    "    10/0\n",
    "    print(\"Yay, it works! I just divided by zero\")\n",
    "except:\n",
    "    print(\"I guess the mathematicians were right about this\")\n",
    "print(number)"
   ]
  },
  {
   "cell_type": "code",
   "execution_count": null,
   "id": "9fa37311-7a08-4fc4-be7f-b801b7ecb9e8",
   "metadata": {},
   "outputs": [],
   "source": [
    "try:\n",
    "    number = float(input(\"What is your favourite number?\"))\n",
    "    print(f\"Your favourite number is: {number}\")\n",
    "except:\n",
    "    print(\"Please input an actual number!\")"
   ]
  },
  {
   "cell_type": "code",
   "execution_count": null,
   "id": "78eeca12-ec52-4d2e-9f10-093956603eea",
   "metadata": {},
   "outputs": [],
   "source": []
  }
 ],
 "metadata": {
  "kernelspec": {
   "display_name": "Python 3 (ipykernel)",
   "language": "python",
   "name": "python3"
  },
  "language_info": {
   "codemirror_mode": {
    "name": "ipython",
    "version": 3
   },
   "file_extension": ".py",
   "mimetype": "text/x-python",
   "name": "python",
   "nbconvert_exporter": "python",
   "pygments_lexer": "ipython3",
   "version": "3.12.5"
  }
 },
 "nbformat": 4,
 "nbformat_minor": 5
}
